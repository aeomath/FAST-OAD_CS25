{
 "cells": [
  {
   "cell_type": "markdown",
   "metadata": {},
   "source": [
    "<div class=\"row\">\n",
    "  <div class=\"column\">\n",
    "    <img src=\"./img/logo-onera.png\" width=\"200\">\n",
    "  </div>\n",
    "  <div class=\"column\">\n",
    "    <img src=\"./img/logo-ISAE_SUPAERO.png\" width=\"200\">\n",
    "  </div>\n",
    "</div>"
   ]
  },
  {
   "cell_type": "markdown",
   "metadata": {},
   "source": [
    "# FAST-OAD Tutorial"
   ]
  },
  {
   "cell_type": "markdown",
   "metadata": {},
   "source": [
    "FAST-OAD is a framework for performing rapid Overall Aircraft Design. The computational core of FAST-OAD is based on the  [OpenMDAO framework](https://openmdao.org/)."
   ]
  },
  {
   "cell_type": "markdown",
   "metadata": {},
   "source": [
    "## 1. Setting up and analyzing the initial problem"
   ]
  },
  {
   "cell_type": "markdown",
   "metadata": {},
   "source": [
    "To organize our work, we propose to use two user folders `data/` and `workdir/`. For instance, in `data/` we store a XML file which describes the [CeRAS reference case](http://ceras.ilr.rwth-aachen.de/trac/wiki/CeRAS/AircraftDesigns/CSR01). In `workdir/`, we store files generated or modified by FAST-OAD."
   ]
  },
  {
   "cell_type": "code",
   "execution_count": 1,
   "metadata": {},
   "outputs": [],
   "source": [
    "import os.path as pth\n",
    "import openmdao.api as om\n",
    "import logging\n",
    "import shutil\n",
    "import fastoad.api as oad\n",
    "\n",
    "\n",
    "DATA_FOLDER_PATH = \"data\"\n",
    "\n",
    "WORK_FOLDER_PATH = \"workdir\"\n",
    "\n",
    "CONFIGURATION_FILE = pth.join(WORK_FOLDER_PATH, \"oad_process.yml\")\n",
    "SOURCE_FILE = pth.join(DATA_FOLDER_PATH, \"CeRAS01_baseline.xml\")\n",
    "\n",
    "# For having log messages on screen\n",
    "logging.basicConfig(level=logging.INFO, format=\"%(levelname)-8s: %(message)s\")"
   ]
  },
  {
   "cell_type": "markdown",
   "metadata": {},
   "source": [
    "After defining a configuration file name, we can ask FAST-OAD to generate a default configuration file based on the default OAD model implemented in the framework:"
   ]
  },
  {
   "cell_type": "code",
   "execution_count": 2,
   "metadata": {},
   "outputs": [
    {
     "name": "stderr",
     "output_type": "stream",
     "text": [
      "INFO    : Loading FAST-OAD plugin bundled\n",
      "INFO    : Loading bundles from fastoad.models\n",
      "INFO    : Installed bundle fastoad.models.performances.mission.segments.registered.start (ID 41 )\n",
      "INFO    : Installed bundle fastoad.models.__init__ (ID 54 )\n",
      "INFO    : Installed bundle fastoad.models.performances.mission.exceptions (ID 11 )\n",
      "INFO    : Installed bundle fastoad.models.performances.mission.openmdao.payload_range (ID 27 )\n",
      "INFO    : Installed bundle fastoad.models.performances.mission.openmdao.mission_run (ID 25 )\n",
      "INFO    : Installed bundle fastoad.models.performances.mission.routes (ID 32 )\n",
      "INFO    : Installed bundle fastoad.models.performances.mission.segments.registered.takeoff.end_of_takeoff (ID 42 )\n",
      "INFO    : Installed bundle fastoad.models.performances.mission.segments.registered.takeoff.rotation (ID 43 )\n",
      "INFO    : Installed bundle fastoad.models.performances.mission.openmdao.mission_wrapper (ID 26 )\n",
      "INFO    : Installed bundle fastoad.models.performances.mission.polar_modifier (ID 31 )\n",
      "INFO    : Installed bundle fastoad.models.performances.mission.mission_definition.mission_builder.mission_builder (ID 16 )\n",
      "INFO    : Installed bundle fastoad.models.performances.mission.segments.registered.takeoff.takeoff (ID 44 )\n",
      "INFO    : Installed bundle fastoad.models.performances.mission.mission_definition.mission_builder.input_definition (ID 15 )\n",
      "INFO    : Installed bundle fastoad.models.performances.mission.segments.registered.takeoff.__init__ (ID 45 )\n",
      "INFO    : Installed bundle fastoad.models.performances.mission.mission (ID 12 )\n",
      "INFO    : Installed bundle fastoad.models.performances.mission.mission_definition.mission_builder.structure_builders (ID 17 )\n",
      "INFO    : Installed bundle fastoad.models.performances.mission.segments.base (ID 33 )\n",
      "INFO    : Installed bundle fastoad.models.performances.__init__ (ID 53 )\n",
      "INFO    : Installed bundle fastoad.models.performances.mission.mission_definition.mission_builder.__init__ (ID 18 )\n",
      "INFO    : Installed bundle fastoad.models.performances.mission.segments.registered.transition (ID 47 )\n",
      "INFO    : Installed bundle fastoad.models.performances.mission.segments.registered.altitude_change (ID 35 )\n",
      "INFO    : Installed bundle fastoad.models.performances.mission.mission_definition.resources.__init__ (ID 19 )\n",
      "INFO    : Installed bundle fastoad.models.performances.mission.segments.registered.taxi (ID 46 )\n",
      "INFO    : Installed bundle fastoad.models.performances.mission.segments.macro_segments (ID 34 )\n",
      "INFO    : Installed bundle fastoad.models.performances.mission.segments.registered.__init__ (ID 48 )\n",
      "INFO    : Installed bundle fastoad.models.performances.mission.openmdao.base (ID 22 )\n",
      "INFO    : Installed bundle fastoad.models.performances.mission.mission_definition.schema (ID 20 )\n",
      "INFO    : Installed bundle fastoad.models.performances.mission.openmdao.resources.__init__ (ID 28 )\n",
      "INFO    : Installed bundle fastoad.models.performances.mission.segments.registered.cruise (ID 36 )\n",
      "INFO    : Installed bundle fastoad.models.performances.mission.mission_definition.__init__ (ID 21 )\n",
      "INFO    : Installed bundle fastoad.models.performances.mission.segments.time_step_base (ID 49 )\n",
      "INFO    : Installed bundle fastoad.models.performances.mission.segments.registered.ground_speed_change (ID 37 )\n",
      "INFO    : Installed bundle fastoad.models.performances.mission.mission_definition.exceptions (ID 13 )\n",
      "INFO    : Installed bundle fastoad.models.performances.mission.util (ID 51 )\n",
      "INFO    : Installed bundle fastoad.models.performances.mission.segments.registered.mass_input (ID 39 )\n",
      "INFO    : Installed bundle fastoad.models.performances.mission.segments.__init__ (ID 50 )\n",
      "INFO    : Installed bundle fastoad.models.performances.mission.base (ID 10 )\n",
      "INFO    : Installed bundle fastoad.models.performances.mission.mission_definition.mission_builder.constants (ID 14 )\n",
      "INFO    : Installed bundle fastoad.models.performances.mission.openmdao.__init__ (ID 29 )\n",
      "INFO    : Installed bundle fastoad.models.performances.mission.segments.registered.hold (ID 38 )\n",
      "INFO    : Installed bundle fastoad.models.performances.mission.polar (ID 30 )\n",
      "INFO    : Installed bundle fastoad.models.performances.mission.__init__ (ID 52 )\n",
      "INFO    : Installed bundle fastoad.models.performances.mission.openmdao.link_mtow (ID 23 )\n",
      "INFO    : Installed bundle fastoad.models.performances.mission.segments.registered.speed_change (ID 40 )\n",
      "INFO    : Installed bundle fastoad.models.performances.mission.openmdao.mission (ID 24 )\n",
      "INFO    : Loaded variable descriptions in fastoad.models\n",
      "INFO    : Loading FAST-OAD plugin cs25\n",
      "INFO    : Loading bundles from fastoad_cs25.models\n",
      "INFO    : Installed bundle fastoad_cs25.models.geometry.geom_components.wing.compute_wing (ID 135 )\n",
      "INFO    : Installed bundle fastoad_cs25.models.geometry.profiles.__init__ (ID 148 )\n",
      "INFO    : Installed bundle fastoad_cs25.models.aerodynamics.components.cd_trim (ID 67 )\n",
      "INFO    : Installed bundle fastoad_cs25.models.geometry.geom_components.wing.components.compute_mfw (ID 125 )\n",
      "INFO    : Installed bundle fastoad_cs25.models.geometry.geom_components.wing.tests.test_compute_wing (ID 137 )\n",
      "INFO    : Installed bundle fastoad_cs25.models.aerodynamics.components.oswald (ID 75 )\n",
      "INFO    : Installed bundle fastoad_cs25.models.weight.cg.cg (ID 187 )\n",
      "INFO    : Installed bundle fastoad_cs25.models.aerodynamics.components.compute_alpha (ID 68 )\n",
      "INFO    : Installed bundle fastoad_cs25.models.geometry.geom_components.wing.constants (ID 136 )\n",
      "INFO    : Installed bundle fastoad_cs25.models.weight.cg.cg_components.compute_cg_ratio_aft (ID 190 )\n",
      "INFO    : Installed bundle fastoad_cs25.models.aerodynamics.components.cd0_fuselage (ID 60 )\n",
      "INFO    : Installed bundle fastoad_cs25.models.aerodynamics.components.compute_max_cl_landing (ID 70 )\n",
      "INFO    : Installed bundle fastoad_cs25.models.aerodynamics.components.resources.__init__ (ID 76 )\n",
      "INFO    : Installed bundle fastoad_cs25.models.geometry.geom_components.wing.components.compute_planform (ID 126 )\n",
      "INFO    : Installed bundle fastoad_cs25.models.aerodynamics.components.compute_cl_alpha (ID 69 )\n",
      "INFO    : Installed bundle fastoad_cs25.models.weight.cg.cg_components.compute_cg_control_surfaces (ID 188 )\n",
      "INFO    : Installed bundle fastoad_cs25.models.weight.mass_breakdown.a_airframe.a1_wing_weight (ID 211 )\n",
      "INFO    : Installed bundle fastoad_cs25.models.aerodynamics.aerodynamics_low_speed (ID 57 )\n",
      "INFO    : Installed bundle fastoad_cs25.models.geometry.geom_components.wing.tests.test_wing_global_positions (ID 138 )\n",
      "INFO    : Installed bundle fastoad_cs25.models.geometry.tests.test_aero_center (ID 149 )\n",
      "INFO    : Installed bundle fastoad_cs25.models.weight.cg.cg_components.compute_cg_tanks (ID 191 )\n",
      "INFO    : Installed bundle fastoad_cs25.models.weight.mass_breakdown.c_systems.__init__ (ID 237 )\n",
      "INFO    : Installed bundle fastoad_cs25.models.aerodynamics.components.tests.test_components (ID 77 )\n",
      "INFO    : Installed bundle fastoad_cs25.models.geometry.tests.__init__ (ID 151 )\n",
      "INFO    : Installed bundle fastoad_cs25.models.propulsion.fuel_propulsion.rubber_engine.exceptions (ID 176 )\n",
      "INFO    : Installed bundle fastoad_cs25.models.geometry.geom_components.wing.components.compute_toc_wing (ID 128 )\n",
      "INFO    : Installed bundle fastoad_cs25.models.propulsion.fuel_propulsion.rubber_engine.openmdao (ID 177 )\n",
      "INFO    : Installed bundle fastoad_cs25.models.weight.cg.cg_components.load_cases.compute_cg_loadcase3 (ID 199 )\n",
      "INFO    : Installed bundle fastoad_cs25.models.geometry.geom_components.wing.tests.__init__ (ID 139 )\n",
      "INFO    : Installed bundle fastoad_cs25.models.loops.wing_area_component.tests.test_update_wing_area_geom (ID 169 )\n",
      "INFO    : Installed bundle fastoad_cs25.models.propulsion.fuel_propulsion.rubber_engine.rubber_engine (ID 178 )\n",
      "INFO    : Installed bundle fastoad_cs25.models.weight.cg.cg_components.compute_cg_wing (ID 192 )\n",
      "INFO    : Installed bundle fastoad_cs25.models.aerodynamics.aerodynamics_takeoff (ID 58 )\n",
      "INFO    : Installed bundle fastoad_cs25.models.weight.mass_breakdown.d_furniture.constants (ID 238 )\n",
      "INFO    : Installed bundle fastoad_cs25.models.aerodynamics.components.cd0 (ID 59 )\n",
      "INFO    : Installed bundle fastoad_cs25.models.geometry.geom_components.vt.components.compute_vt_distance (ID 115 )\n",
      "INFO    : Installed bundle fastoad_cs25.models.weight.cg.cg_components.load_cases.compute_cg_loadcase4 (ID 200 )\n",
      "INFO    : Installed bundle fastoad_cs25.models.aerodynamics.components.cd0_nacelles_pylons (ID 62 )\n",
      "INFO    : Installed bundle fastoad_cs25.models.geometry.geom_components.vt.components.compute_vt_mac (ID 116 )\n",
      "INFO    : Installed bundle fastoad_cs25.models.geometry.geom_components.vt.components.compute_vt_sweep (ID 117 )\n",
      "INFO    : Installed bundle fastoad_cs25.models.geometry.geom_components.vt.components.__init__ (ID 118 )\n",
      "INFO    : Installed bundle fastoad_cs25.models.geometry.geom_components.wing.components.compute_sweep_wing (ID 127 )\n",
      "INFO    : Installed bundle fastoad_cs25.models.aerodynamics.components.compute_polar (ID 71 )\n",
      "INFO    : Installed bundle fastoad_cs25.models.geometry.geom_components.wing.wing_global_positions (ID 140 )\n",
      "INFO    : Installed bundle fastoad_cs25.models.propulsion.fuel_propulsion.rubber_engine.tests.test_openmdao_engine (ID 179 )\n",
      "INFO    : Installed bundle fastoad_cs25.models.weight.cg.cg_components.compute_global_cg (ID 193 )\n",
      "INFO    : Installed bundle fastoad_cs25.models.weight.cg.cg_components.load_cases.compute_cg_loadcases (ID 201 )\n",
      "INFO    : Installed bundle fastoad_cs25.models.geometry.geom_components.vt.compute_vertical_tail (ID 119 )\n",
      "INFO    : Installed bundle fastoad_cs25.models.weight.cg.cg_components.compute_max_cg_ratio (ID 195 )\n",
      "INFO    : Installed bundle fastoad_cs25.models.weight.cg.cg_components.load_cases.compute_cg_loadcase_base (ID 202 )\n",
      "INFO    : Installed bundle fastoad_cs25.models.aerodynamics.aerodynamics_high_speed (ID 55 )\n",
      "INFO    : Installed bundle fastoad_cs25.models.loops.wing_area_component.update_wing_area_aero (ID 171 )\n",
      "INFO    : Installed bundle fastoad_cs25.models.geometry.geom_components.wing.__init__ (ID 141 )\n",
      "INFO    : Installed bundle fastoad_cs25.models.weight.cg.cg_components.compute_cg_others (ID 189 )\n",
      "INFO    : Installed bundle fastoad_cs25.models.weight.cg.cg_components.load_cases.__init__ (ID 203 )\n",
      "INFO    : Installed bundle fastoad_cs25.models.aerodynamics.components.compute_reynolds (ID 72 )\n",
      "INFO    : Installed bundle fastoad_cs25.models.loops.wing_area_component.tests.__init__ (ID 170 )\n",
      "INFO    : Installed bundle fastoad_cs25.models.propulsion.fuel_propulsion.rubber_engine.tests.test_rubber_engine (ID 180 )\n",
      "INFO    : Installed bundle fastoad_cs25.models.geometry.geom_components.vt.__init__ (ID 120 )\n",
      "INFO    : Installed bundle fastoad_cs25.models.geometry.geom_components.wing.components.compute_wet_area_wing (ID 129 )\n",
      "INFO    : Installed bundle fastoad_cs25.models.propulsion.fuel_propulsion.rubber_engine.tests.__init__ (ID 181 )\n",
      "INFO    : Installed bundle fastoad_cs25.models.aerodynamics.components.high_lift_aero (ID 73 )\n",
      "INFO    : Installed bundle fastoad_cs25.models.propulsion.fuel_propulsion.rubber_engine.__init__ (ID 182 )\n",
      "INFO    : Installed bundle fastoad_cs25.models.geometry.geom_components.wing.components.compute_y_wing (ID 131 )\n",
      "INFO    : Installed bundle fastoad_cs25.models.geometry.geom_components.__init__ (ID 142 )\n",
      "INFO    : Installed bundle fastoad_cs25.models.loops.wing_area_component.update_wing_area_geom (ID 172 )\n",
      "INFO    : Installed bundle fastoad_cs25.models.geometry.geom_components.wing.components.compute_b_50 (ID 121 )\n",
      "INFO    : Installed bundle fastoad_cs25.models.geometry.geom_components.wing.components.compute_x_wing (ID 130 )\n",
      "INFO    : Installed bundle fastoad_cs25.models.loops.__init__ (ID 174 )\n",
      "INFO    : Installed bundle fastoad_cs25.models.weight.cg.cg_components.compute_ht_cg (ID 194 )\n",
      "INFO    : Installed bundle fastoad_cs25.models.aerodynamics.components.cd0_total (ID 63 )\n",
      "INFO    : Installed bundle fastoad_cs25.models.geometry.profiles.profile (ID 143 )\n",
      "INFO    : Installed bundle fastoad_cs25.models.propulsion.fuel_propulsion.tests.test_propulsion (ID 183 )\n",
      "INFO    : Installed bundle fastoad_cs25.models.weight.cg.cg_components.load_cases.compute_cg_loadcase1 (ID 197 )\n",
      "INFO    : Installed bundle fastoad_cs25.models.loops.wing_area_component.__init__ (ID 173 )\n",
      "INFO    : Installed bundle fastoad_cs25.models.geometry.profiles.profile_getter (ID 144 )\n",
      "INFO    : Installed bundle fastoad_cs25.models.weight.cg.cg_components.update_mlg (ID 204 )\n",
      "INFO    : Installed bundle fastoad_cs25.models.weight.cg.constants (ID 206 )\n",
      "INFO    : Installed bundle fastoad_cs25.models.aerodynamics.aerodynamics_landing (ID 56 )\n",
      "INFO    : Installed bundle fastoad_cs25.models.aerodynamics.components.cd0_vt (ID 64 )\n",
      "INFO    : Installed bundle fastoad_cs25.models.geometry.geom_components.wing.components.compute_l1_l4 (ID 122 )\n",
      "INFO    : Installed bundle fastoad_cs25.models.geometry.profiles.resources.__init__ (ID 145 )\n",
      "INFO    : Installed bundle fastoad_cs25.models.propulsion.fuel_propulsion.rubber_engine.constants (ID 175 )\n",
      "INFO    : Installed bundle fastoad_cs25.models.propulsion.fuel_propulsion.tests.__init__ (ID 184 )\n",
      "INFO    : Installed bundle fastoad_cs25.models.weight.cg.cg_components.__init__ (ID 205 )\n",
      "INFO    : Installed bundle fastoad_cs25.models.weight.cg.cg_components.compute_vt_cg (ID 196 )\n",
      "INFO    : Installed bundle fastoad_cs25.models.propulsion.__init__ (ID 186 )\n",
      "INFO    : Installed bundle fastoad_cs25.models.aerodynamics.components.cd0_wing (ID 65 )\n",
      "INFO    : Installed bundle fastoad_cs25.models.aerodynamics.components.initialize_cl (ID 74 )\n",
      "INFO    : Installed bundle fastoad_cs25.models.geometry.geom_components.wing.components.compute_l2_l3 (ID 123 )\n",
      "INFO    : Installed bundle fastoad_cs25.models.geometry.geom_components.wing.components.tests.test_wing_geom_comps (ID 132 )\n",
      "INFO    : Installed bundle fastoad_cs25.models.weight.cg.tests.__init__ (ID 208 )\n",
      "INFO    : Installed bundle fastoad_cs25.models.geometry.geom_components.wing.components.tests.__init__ (ID 133 )\n",
      "INFO    : Installed bundle fastoad_cs25.models.geometry.profiles.tests.test_profile (ID 146 )\n",
      "INFO    : Installed bundle fastoad_cs25.models.weight.mass_breakdown.tests.test_mass_breakdown (ID 250 )\n",
      "INFO    : Installed bundle fastoad_cs25.models.geometry.geom_components.wing.components.compute_mac_wing (ID 124 )\n",
      "INFO    : Installed bundle fastoad_cs25.models.geometry.geom_components.wing.components.__init__ (ID 134 )\n",
      "INFO    : Installed bundle fastoad_cs25.models.propulsion.fuel_propulsion.__init__ (ID 185 )\n",
      "INFO    : Installed bundle fastoad_cs25.models.weight.mass_breakdown.d_furniture.d1_cargo_configuration_weight (ID 239 )\n",
      "INFO    : Installed bundle fastoad_cs25.models.geometry.profiles.tests.__init__ (ID 147 )\n",
      "INFO    : Installed bundle fastoad_cs25.models.geometry.tests.test_geometry_geom_comps (ID 150 )\n",
      "INFO    : Installed bundle fastoad_cs25.models.aerodynamics.components.cd_compressibility (ID 66 )\n",
      "INFO    : Installed bundle fastoad_cs25.models.weight.mass_breakdown.d_furniture.d2_passenger_seats_weight (ID 240 )\n",
      "INFO    : Installed bundle fastoad_cs25.models.weight.cg.cg_components.load_cases.compute_cg_loadcase2 (ID 198 )\n",
      "INFO    : Installed bundle fastoad_cs25.models.weight.mass_breakdown.b_propulsion.constants (ID 224 )\n",
      "INFO    : Installed bundle fastoad_cs25.models.geometry.__init__ (ID 152 )\n",
      "INFO    : Installed bundle fastoad_cs25.models.handling_qualities.__init__ (ID 161 )\n",
      "INFO    : Installed bundle fastoad_cs25.models.weight.mass_breakdown.d_furniture.d3_food_water_weight (ID 241 )\n",
      "INFO    : Installed bundle fastoad_cs25.models.weight.mass_breakdown.tests.__init__ (ID 251 )\n",
      "INFO    : Installed bundle fastoad_cs25.models.aerodynamics.external.xfoil.tests.__init__ (ID 86 )\n",
      "INFO    : Installed bundle fastoad_cs25.models.handling_qualities.tail_sizing.compute_ht_area (ID 154 )\n",
      "INFO    : Installed bundle fastoad_cs25.models.weight.mass_breakdown.d_furniture.d4_security_kit_weight (ID 242 )\n",
      "INFO    : Installed bundle fastoad_cs25.models.geometry.geom_components.fuselage.compute_fuselage (ID 100 )\n",
      "INFO    : Installed bundle fastoad_cs25.models.geometry.geom_components.ht.compute_horizontal_tail (ID 107 )\n",
      "INFO    : Installed bundle fastoad_cs25.models.weight.mass_breakdown.b_propulsion.sum (ID 225 )\n",
      "INFO    : Installed bundle fastoad_cs25.models.weight.mass_breakdown.d_furniture.d5_toilets_weight (ID 243 )\n",
      "INFO    : Installed bundle fastoad_cs25.models.weight.mass_breakdown.update_mlw_and_mzfw (ID 252 )\n",
      "INFO    : Installed bundle fastoad_cs25.models.loops.compute_wing_area (ID 162 )\n",
      "INFO    : Installed bundle fastoad_cs25.models.aerodynamics.external.xfoil.xfoil699.__init__ (ID 87 )\n",
      "INFO    : Installed bundle fastoad_cs25.models.loops.constants (ID 164 )\n",
      "INFO    : Installed bundle fastoad_cs25.models.weight.mass_breakdown.b_propulsion.__init__ (ID 226 )\n",
      "INFO    : Installed bundle fastoad_cs25.models.handling_qualities.compute_static_margin (ID 153 )\n",
      "INFO    : Installed bundle fastoad_cs25.models.weight.mass_breakdown.a_airframe.a2_fuselage_weight (ID 212 )\n",
      "INFO    : Installed bundle fastoad_cs25.models.weight.mass_breakdown.d_furniture.sum (ID 244 )\n",
      "INFO    : Installed bundle fastoad_cs25.models.weight.mass_breakdown.__init__ (ID 253 )\n",
      "INFO    : Installed bundle fastoad_cs25.models.geometry.geom_components.ht.__init__ (ID 108 )\n",
      "INFO    : Installed bundle fastoad_cs25.models.weight.mass_breakdown.a_airframe.a3_empennage_weight (ID 213 )\n",
      "INFO    : Installed bundle fastoad_cs25.models.aerodynamics.external.xfoil.xfoil_polar (ID 88 )\n",
      "INFO    : Installed bundle fastoad_cs25.models.weight.mass_breakdown.a_airframe.a4_flight_control_weight (ID 214 )\n",
      "INFO    : Installed bundle fastoad_cs25.models.weight.mass_breakdown.d_furniture.__init__ (ID 245 )\n",
      "INFO    : Installed bundle fastoad_cs25.models.weight.weight (ID 254 )\n",
      "INFO    : Installed bundle fastoad_cs25.models.geometry.geom_components.nacelle_pylons.compute_nacelle_pylons (ID 109 )\n",
      "INFO    : Installed bundle fastoad_cs25.models.handling_qualities.tail_sizing.compute_tail_areas (ID 155 )\n",
      "INFO    : Installed bundle fastoad_cs25.models.loops.compute_wing_position (ID 163 )\n",
      "INFO    : Installed bundle fastoad_cs25.models.weight.mass_breakdown.a_airframe.a5_landing_gear_weight (ID 215 )\n",
      "INFO    : Installed bundle fastoad_cs25.models.weight.mass_breakdown.constants (ID 227 )\n",
      "INFO    : Installed bundle fastoad_cs25.models.weight.__init__ (ID 255 )\n",
      "INFO    : Installed bundle fastoad_cs25.models.aerodynamics.external.xfoil.__init__ (ID 89 )\n",
      "INFO    : Installed bundle fastoad_cs25.models.geometry.geom_components.fuselage.__init__ (ID 101 )\n",
      "INFO    : Installed bundle fastoad_cs25.models.weight.mass_breakdown.a_airframe.a6_pylons_weight (ID 216 )\n",
      "INFO    : Installed bundle fastoad_cs25.models.weight.mass_breakdown.c_systems.c1_power_systems_weight (ID 229 )\n",
      "INFO    : Installed bundle fastoad_cs25.models.__init__ (ID 256 )\n",
      "INFO    : Installed bundle fastoad_cs25.models.weight.mass_breakdown.a_airframe.a7_paint_weight (ID 217 )\n",
      "INFO    : Installed bundle fastoad_cs25.models.weight.mass_breakdown.cs25 (ID 228 )\n",
      "INFO    : Installed bundle fastoad_cs25.models.aerodynamics.external.__init__ (ID 90 )\n",
      "INFO    : Installed bundle fastoad_cs25.models.weight.mass_breakdown.a_airframe.constants (ID 218 )\n",
      "INFO    : Installed bundle fastoad_cs25.models.aerodynamics.components.cd0_ht (ID 61 )\n",
      "INFO    : Installed bundle fastoad_cs25.models.geometry.geom_components.ht.components.compute_ht_chords (ID 102 )\n",
      "INFO    : Installed bundle fastoad_cs25.models.aerodynamics.tests.test_aerodynamics_landing (ID 91 )\n",
      "INFO    : Installed bundle fastoad_cs25.models.handling_qualities.tail_sizing.compute_vt_area (ID 156 )\n",
      "INFO    : Installed bundle fastoad_cs25.models.weight.mass_breakdown.a_airframe.sum (ID 219 )\n",
      "INFO    : Installed bundle fastoad_cs25.models.weight.mass_breakdown.e_crew.crew_weight (ID 246 )\n",
      "INFO    : Installed bundle fastoad_cs25.models.aerodynamics.__init__ (ID 93 )\n",
      "INFO    : Installed bundle fastoad_cs25.models.aerodynamics.tests.__init__ (ID 92 )\n",
      "INFO    : Installed bundle fastoad_cs25.models.weight.mass_breakdown.e_crew.__init__ (ID 247 )\n",
      "INFO    : Installed bundle fastoad_cs25.models.aerodynamics.components.tests.__init__ (ID 78 )\n",
      "INFO    : Installed bundle fastoad_cs25.models.weight.mass_breakdown.a_airframe.__init__ (ID 220 )\n",
      "INFO    : Installed bundle fastoad_cs25.models.constants (ID 94 )\n",
      "INFO    : Installed bundle fastoad_cs25.models.geometry.constants (ID 96 )\n",
      "INFO    : Installed bundle fastoad_cs25.models.geometry.geom_components.nacelle_pylons.tests.test_geom_nacelle_pylon (ID 110 )\n",
      "INFO    : Installed bundle fastoad_cs25.models.handling_qualities.tail_sizing.__init__ (ID 157 )\n",
      "INFO    : Installed bundle fastoad_cs25.models.aerodynamics.components.utils.cd0_lifting_surface (ID 79 )\n",
      "INFO    : Installed bundle fastoad_cs25.models.geometry.geom_components.nacelle_pylons.tests.__init__ (ID 111 )\n",
      "INFO    : Installed bundle fastoad_cs25.models.weight.mass_breakdown.b_propulsion.b1_engine_weight (ID 221 )\n",
      "INFO    : Installed bundle fastoad_cs25.models.weight.mass_breakdown.mass_breakdown (ID 248 )\n",
      "INFO    : Installed bundle fastoad_cs25.models.aerodynamics.components.utils.friction_drag (ID 80 )\n",
      "INFO    : Installed bundle fastoad_cs25.models.aerodynamics.constants (ID 83 )\n",
      "INFO    : Installed bundle fastoad_cs25.models.weight.mass_breakdown.c_systems.c2_life_support_systems_weight (ID 230 )\n",
      "INFO    : Installed bundle fastoad_cs25.models.weight.constants (ID 210 )\n",
      "INFO    : Installed bundle fastoad_cs25.models.weight.mass_breakdown.c_systems.c3_navigation_systems_weight (ID 231 )\n",
      "INFO    : Installed bundle fastoad_cs25.models.weight.mass_breakdown.payload (ID 249 )\n",
      "INFO    : Installed bundle fastoad_cs25.models.aerodynamics.components.utils.__init__ (ID 81 )\n",
      "INFO    : Installed bundle fastoad_cs25.models.geometry.geom_components.nacelle_pylons.__init__ (ID 112 )\n",
      "INFO    : Installed bundle fastoad_cs25.models.handling_qualities.tests.test_static_margin (ID 158 )\n",
      "INFO    : Installed bundle fastoad_cs25.models.weight.mass_breakdown.c_systems.c4_transmissions_systems_weight (ID 232 )\n",
      "INFO    : Installed bundle fastoad_cs25.models.geometry.compute_aero_center (ID 95 )\n",
      "INFO    : Installed bundle fastoad_cs25.models.weight.mass_breakdown.c_systems.c5_fixed_operational_systems_weight (ID 233 )\n",
      "INFO    : Installed bundle fastoad_cs25.models.weight.mass_breakdown.c_systems.c6_flight_kit_weight (ID 234 )\n",
      "INFO    : Installed bundle fastoad_cs25.models.aerodynamics.components.__init__ (ID 82 )\n",
      "INFO    : Installed bundle fastoad_cs25.models.geometry.geometry (ID 97 )\n",
      "INFO    : Installed bundle fastoad_cs25.models.geometry.geom_components.vt.components.compute_vt_chords (ID 113 )\n",
      "INFO    : Installed bundle fastoad_cs25.models.weight.mass_breakdown.c_systems.constants (ID 235 )\n",
      "INFO    : Installed bundle fastoad_cs25.models.aerodynamics.external.xfoil.tests.test_xfoil (ID 85 )\n",
      "INFO    : Installed bundle fastoad_cs25.models.geometry.geom_components.ht.components.compute_ht_cl_alpha (ID 103 )\n",
      "INFO    : Installed bundle fastoad_cs25.models.geometry.geom_components.vt.components.compute_vt_clalpha (ID 114 )\n",
      "INFO    : Installed bundle fastoad_cs25.models.loops.tests.test_compute_wing_area (ID 165 )\n",
      "INFO    : Installed bundle fastoad_cs25.models.loops.tests.test_compute_wing_position (ID 166 )\n",
      "INFO    : Installed bundle fastoad_cs25.models.handling_qualities.tests.test_tail_areas (ID 159 )\n",
      "INFO    : Installed bundle fastoad_cs25.models.aerodynamics.external.xfoil.resources.__init__ (ID 84 )\n",
      "INFO    : Installed bundle fastoad_cs25.models.geometry.geom_components.compute_wetted_area (ID 98 )\n",
      "INFO    : Installed bundle fastoad_cs25.models.geometry.geom_components.ht.components.compute_ht_mac (ID 104 )\n",
      "INFO    : Installed bundle fastoad_cs25.models.geometry.geom_components.ht.components.compute_ht_sweep (ID 105 )\n",
      "INFO    : Installed bundle fastoad_cs25.models.loops.tests.__init__ (ID 167 )\n",
      "INFO    : Installed bundle fastoad_cs25.models.weight.cg.tests.test_cg_components (ID 207 )\n",
      "INFO    : Installed bundle fastoad_cs25.models.weight.mass_breakdown.b_propulsion.b2_fuel_lines_weight (ID 222 )\n",
      "INFO    : Installed bundle fastoad_cs25.models.weight.mass_breakdown.c_systems.sum (ID 236 )\n",
      "INFO    : Installed bundle fastoad_cs25.models.geometry.geom_components.fuselage.compute_cnbeta_fuselage (ID 99 )\n",
      "INFO    : Installed bundle fastoad_cs25.models.geometry.geom_components.ht.components.__init__ (ID 106 )\n",
      "INFO    : Installed bundle fastoad_cs25.models.handling_qualities.tests.__init__ (ID 160 )\n",
      "INFO    : Installed bundle fastoad_cs25.models.weight.cg.__init__ (ID 209 )\n",
      "INFO    : Installed bundle fastoad_cs25.models.weight.mass_breakdown.b_propulsion.b3_unconsumables_weight (ID 223 )\n",
      "INFO    : Installed bundle fastoad_cs25.models.loops.wing_area_component.tests.test_update_wing_area_aero (ID 168 )\n",
      "INFO    : Loaded variable descriptions in fastoad_cs25.models\n",
      "INFO    : Sample configuration written in \"C:\\Adam\\SUPAERO\\STAGE RECHERCHE\\FAST\\FAST-OAD_CS25\\FAST-OAD_notebooks\\fast-oad-cs25\\01_tutorial\\workdir\\oad_process.yml\".\n"
     ]
    },
    {
     "data": {
      "text/plain": [
       "'C:\\\\Adam\\\\SUPAERO\\\\STAGE RECHERCHE\\\\FAST\\\\FAST-OAD_CS25\\\\FAST-OAD_notebooks\\\\fast-oad-cs25\\\\01_tutorial\\\\workdir\\\\oad_process.yml'"
      ]
     },
     "execution_count": 2,
     "metadata": {},
     "output_type": "execute_result"
    }
   ],
   "source": [
    "oad.generate_configuration_file(\n",
    "    CONFIGURATION_FILE, overwrite=True, distribution_name=\"fast-oad-cs25\"\n",
    ")\n",
    "\n",
    "# The above generated configuration uses the quick and simple Breguet module to compute performances.\n",
    "# If you want to use the more accurate, much more CPU-costly time-step integration, uncomment and run\n",
    "# the next line:\n",
    "# shutil.copy(pth.join(DATA_FOLDER_PATH, \"oad_process_timestep_mission.yml\"), CONFIGURATION_FILE)"
   ]
  },
  {
   "cell_type": "markdown",
   "metadata": {},
   "source": [
    "You can now checkout the generated [configuration file](./workdir/oad_process.yml)."
   ]
  },
  {
   "cell_type": "markdown",
   "metadata": {},
   "source": [
    "In this configuration file, we have specified an input file name 'problem_inputs.xml'. We can ask FAST-OAD to generate the inputs of the default model with the CeRAS parameters as default values:"
   ]
  },
  {
   "cell_type": "code",
   "execution_count": null,
   "metadata": {},
   "outputs": [],
   "source": [
    "oad.generate_inputs(CONFIGURATION_FILE, SOURCE_FILE, overwrite=True)"
   ]
  },
  {
   "cell_type": "markdown",
   "metadata": {},
   "source": [
    "You can now checkout the generated [input file](./workdir/problem_inputs.xml). As shown previously in the user file architecture, the values in this file can be modified by the user and will be considered by FAST-OAD when executing a computational process."
   ]
  },
  {
   "cell_type": "markdown",
   "metadata": {},
   "source": [
    "A useful feature that FAST-OAD provides is to list the outputs of the model defined in the configuration file:"
   ]
  },
  {
   "cell_type": "code",
   "execution_count": null,
   "metadata": {},
   "outputs": [],
   "source": [
    "oad.list_variables(CONFIGURATION_FILE)"
   ]
  },
  {
   "cell_type": "markdown",
   "metadata": {},
   "source": [
    "Another useful feature is to list the modules of the model defined in the configuration file:"
   ]
  },
  {
   "cell_type": "code",
   "execution_count": null,
   "metadata": {},
   "outputs": [],
   "source": [
    "oad.list_modules(CONFIGURATION_FILE)\n",
    "# api.list_modules(CONFIGURATION_FILE, verbose=True) # Use this line instead of the previous one for detailed information (text format only)"
   ]
  },
  {
   "cell_type": "markdown",
   "metadata": {},
   "source": [
    "Another useful feature is the [N2 diagram](http://openmdao.org/twodocs/versions/latest/basic_guide/make_n2.html) visualization available in OpenMDAO to see the structure of the model:"
   ]
  },
  {
   "cell_type": "code",
   "execution_count": null,
   "metadata": {},
   "outputs": [],
   "source": [
    "N2_FILE = pth.join(WORK_FOLDER_PATH, \"n2.html\")\n",
    "oad.write_n2(CONFIGURATION_FILE, N2_FILE, overwrite=True)\n",
    "from IPython.display import IFrame\n",
    "\n",
    "IFrame(src=N2_FILE, width=\"100%\", height=\"500px\")"
   ]
  },
  {
   "cell_type": "markdown",
   "metadata": {},
   "source": [
    "Alternatively, you can use [WhatsOpt](https://github.com/OneraHub/WhatsOpt-Doc#whatsopt-documentation) as a web service to generate the XDSM of the problem.\n",
    "\n",
    "*This command requires internet access and can take some time (~ 1 minute on the first run), so it is currently deactivated, but feel free to uncomment these lines.*"
   ]
  },
  {
   "cell_type": "code",
   "execution_count": null,
   "metadata": {},
   "outputs": [],
   "source": [
    "# XDSM_FILE = pth.join(WORK_FOLDER_PATH, 'xdsm.html')\n",
    "# oad.write_xdsm(CONFIGURATION_FILE, XDSM_FILE, overwrite=True)\n",
    "# from IPython.display import IFrame\n",
    "# IFrame(src=XDSM_FILE, width='100%', height='500px')"
   ]
  },
  {
   "cell_type": "markdown",
   "metadata": {},
   "source": [
    "## 2. Running your first MDA"
   ]
  },
  {
   "cell_type": "markdown",
   "metadata": {},
   "source": [
    "### CeRAS\n",
    "Here we run an MDA, that is solving the multidisciplinary couplings using the different nested solvers in the model, without running the optimization problem even if it is defined in the configuration file.\n",
    "\n",
    "*(This run should take around 10 seconds)*"
   ]
  },
  {
   "cell_type": "code",
   "execution_count": null,
   "metadata": {},
   "outputs": [],
   "source": [
    "eval_problem = oad.evaluate_problem(CONFIGURATION_FILE, overwrite=True)"
   ]
  },
  {
   "cell_type": "markdown",
   "metadata": {},
   "source": [
    "> _**Note**: the warning you see at end of computation is normal. FAST-OAD allows to define validity domain for each model, and the propulsion model has been validated for a certain range of turbine inlet temperature (a.k.a. T4). The T4 value we use is slightly outside the validated range, hence the warning. The check of validity domain issues warnings as soon as a value is outside the bounds, but in the end, it's up to the user to decide if the problem is real or not, though it may require a certain knowledge about the used models.  \n",
    "> In this case, the model has been validated for T4 between 1400K and 1600K and using it for a value of 1633K can be considered as OK._\n",
    "\n",
    "Let's save these results. We will use them in the next notebook, that shows some post-processing utilities."
   ]
  },
  {
   "cell_type": "code",
   "execution_count": null,
   "metadata": {},
   "outputs": [],
   "source": [
    "OUTPUT_FILE = pth.join(WORK_FOLDER_PATH, \"problem_outputs.xml\")\n",
    "CeRAS_OUTPUT_FILE = pth.join(WORK_FOLDER_PATH, \"problem_outputs_CeRAS_2750nm_mda.xml\")\n",
    "shutil.copy(OUTPUT_FILE, CeRAS_OUTPUT_FILE)\n",
    "MISSION_FILE = pth.join(WORK_FOLDER_PATH, \"flight_points.csv\")\n",
    "CeRAS_MISSION_FILE = pth.join(WORK_FOLDER_PATH, \"mission_CeRAS_2750nm_mda.csv\")\n",
    "shutil.copy(MISSION_FILE, CeRAS_MISSION_FILE)"
   ]
  },
  {
   "cell_type": "markdown",
   "metadata": {},
   "source": [
    "The `variable-viewer` provides a way to inspect the content of the XML file. The dropdown lists above the table allow to filter the displayed variable."
   ]
  },
  {
   "cell_type": "code",
   "execution_count": null,
   "metadata": {},
   "outputs": [],
   "source": [
    "oad.variable_viewer(OUTPUT_FILE)"
   ]
  },
  {
   "cell_type": "markdown",
   "metadata": {},
   "source": [
    "### CeRAS for 800 nm range\n",
    "Here we run an MDA but we change one of the Top Level Aircraft Requirement (TLAR): the range. We choose a 800 nm range instead of the 2750 nm of the CeRAS. For that we use the `VariableViewer` tool on the input file to change the range (do not forget to save!). Just like this:\n",
    "![variable_viewer](./img/variable_viewer_change_range.gif)"
   ]
  },
  {
   "cell_type": "code",
   "execution_count": null,
   "metadata": {},
   "outputs": [],
   "source": [
    "INPUT_FILE = pth.join(WORK_FOLDER_PATH, \"problem_inputs.xml\")\n",
    "oad.variable_viewer(INPUT_FILE)"
   ]
  },
  {
   "cell_type": "markdown",
   "metadata": {},
   "source": [
    "You can also do this operation through Python like this:"
   ]
  },
  {
   "cell_type": "code",
   "execution_count": null,
   "metadata": {},
   "outputs": [],
   "source": [
    "input_data = oad.DataFile(INPUT_FILE)\n",
    "input_data[\"data:TLAR:range\"].value = 800.0\n",
    "input_data.save()"
   ]
  },
  {
   "cell_type": "markdown",
   "metadata": {},
   "source": [
    "Now that the range has been changed, we run again the MDA.\n",
    "\n",
    "*(This run should take around 10 seconds)*"
   ]
  },
  {
   "cell_type": "code",
   "execution_count": null,
   "metadata": {},
   "outputs": [],
   "source": [
    "eval_problem = oad.evaluate_problem(CONFIGURATION_FILE, overwrite=True)"
   ]
  },
  {
   "cell_type": "markdown",
   "metadata": {},
   "source": [
    "Let's save again these new results, for post-processing them in next notebook."
   ]
  },
  {
   "cell_type": "code",
   "execution_count": null,
   "metadata": {},
   "outputs": [],
   "source": [
    "OUTPUT_FILE = pth.join(WORK_FOLDER_PATH, \"problem_outputs.xml\")\n",
    "CeRAS_800nm_OUTPUT_FILE = pth.join(WORK_FOLDER_PATH, \"problem_outputs_CeRAS_800nm_mda.xml\")\n",
    "shutil.copy(OUTPUT_FILE, CeRAS_800nm_OUTPUT_FILE)\n",
    "MISSION_FILE = pth.join(WORK_FOLDER_PATH, \"flight_points.csv\")\n",
    "CeRAS_800nm_MISSION_FILE = pth.join(WORK_FOLDER_PATH, \"mission_CeRAS_800nm_mda.csv\")\n",
    "shutil.copy(MISSION_FILE, CeRAS_800nm_MISSION_FILE)"
   ]
  },
  {
   "cell_type": "markdown",
   "metadata": {},
   "source": [
    "## 3. Running your first MDO\n",
    "\n",
    "## CeRAS 2750 nm optimization\n",
    "\n",
    "It is possible to run an optimization problem on top of your analysis. Thus, you can choose to set some global inputs as design variables, and global outputs as constraints or the objective. Here is an example given in the default configuration file that aims at:\n",
    "- minimizing the fuel consumption for the mission (objective),\n",
    "- with respect to the wing aspect ratio (design variables),\n",
    "- subject to a wing span limit (constraints).\n",
    "\n",
    "The last part of the configuration file .yaml is where this optimization problem is defined:\n",
    "\n",
    "```yaml\n",
    "optimization:  # This section is needed only if optimization process is run\n",
    "  design_variables:\n",
    "    - name: data:geometry:wing:aspect_ratio\n",
    "      lower: 9.0\n",
    "      upper: 18.0\n",
    "  constraints:\n",
    "    - name: data:geometry:wing:span\n",
    "      upper: 60.0\n",
    "  objective:\n",
    "    - name: data:mission:sizing:needed_block_fuel\n",
    "      scaler: 1.e-4\n",
    "```\n",
    "\n",
    "Note that we need to use [scaling](https://openmdao.org/twodocs/versions/latest/features/core_features/defining_components/scaling.html) on the objective (fuel mass for the mission) so that it has the same order of magnitude than the design variable (wing aspect ratio) by adding the line `scaler = 1e-4`. Without this the optimizer might not detect that the steps it makes on the wing aspect ratio has an effect on decreasing the fuel mass and could result in an early stop.\n",
    "\n",
    "\n",
    "*(This run should take around 3 minutes)*"
   ]
  },
  {
   "cell_type": "code",
   "execution_count": null,
   "metadata": {},
   "outputs": [],
   "source": [
    "# Set back the inputs from the reference CeRAS 2750 nm\n",
    "oad.generate_inputs(CONFIGURATION_FILE, SOURCE_FILE, overwrite=True)"
   ]
  },
  {
   "cell_type": "markdown",
   "metadata": {},
   "source": [
    "To visualize and edit the optimization problem definition (present in the configuration file .yml) you can use the `optimization_viewer` tool. If design variables or constraints have active bounds they are yellow whereas they are red if they are violated. Modifiying the `Initial Value` will modify the input file defined in the configuration file .yml whereas `Value` corresponds to the value found in the output file defined in the configuration file (here it is the 800 nm MDA run)."
   ]
  },
  {
   "cell_type": "code",
   "execution_count": null,
   "metadata": {},
   "outputs": [],
   "source": [
    "oad.optimization_viewer(CONFIGURATION_FILE)"
   ]
  },
  {
   "cell_type": "code",
   "execution_count": null,
   "metadata": {
    "collapsed": true,
    "jupyter": {
     "outputs_hidden": true
    }
   },
   "outputs": [],
   "source": [
    "optim_problem = oad.optimize_problem(CONFIGURATION_FILE, overwrite=True)"
   ]
  },
  {
   "cell_type": "markdown",
   "metadata": {},
   "source": [
    "Let's save these results:"
   ]
  },
  {
   "cell_type": "code",
   "execution_count": null,
   "metadata": {},
   "outputs": [],
   "source": [
    "OUTPUT_FILE = pth.join(WORK_FOLDER_PATH, \"problem_outputs.xml\")\n",
    "CeRAS_OPT_OUTPUT_FILE = pth.join(WORK_FOLDER_PATH, \"problem_outputs_CeRAS_2750nm_mdo.xml\")\n",
    "shutil.copy(OUTPUT_FILE, CeRAS_OPT_OUTPUT_FILE)\n",
    "MISSION_FILE = pth.join(WORK_FOLDER_PATH, \"flight_points.csv\")\n",
    "CeRAS_OPT_MISSION_FILE = pth.join(WORK_FOLDER_PATH, \"mission_CeRAS_2750nm_mdo.csv\")\n",
    "shutil.copy(MISSION_FILE, CeRAS_OPT_MISSION_FILE)"
   ]
  },
  {
   "cell_type": "markdown",
   "metadata": {},
   "source": [
    "The `optimizer_viewer` offers a convenient summary of the optimization result:"
   ]
  },
  {
   "cell_type": "code",
   "execution_count": null,
   "metadata": {},
   "outputs": [],
   "source": [
    "oad.optimization_viewer(CONFIGURATION_FILE)"
   ]
  },
  {
   "cell_type": "markdown",
   "metadata": {},
   "source": [
    "We see that the optimizer finds a compromise between a smaller induced drag (higher aspect ratio) and a heavier wing.\n",
    "\n",
    "**Note: Finding such compromise on real aircraft is still a subject of research. Please take this result as informational.**"
   ]
  },
  {
   "cell_type": "markdown",
   "metadata": {},
   "source": [
    "You can use the `VariableViewer` tool to see the optimization results for all variables of the system by loading the .xml output file:"
   ]
  },
  {
   "cell_type": "code",
   "execution_count": null,
   "metadata": {},
   "outputs": [],
   "source": [
    "RESULT_FILE = pth.join(WORK_FOLDER_PATH, \"problem_outputs.xml\")"
   ]
  },
  {
   "cell_type": "code",
   "execution_count": null,
   "metadata": {},
   "outputs": [],
   "source": [
    "oad.variable_viewer(RESULT_FILE)"
   ]
  },
  {
   "cell_type": "code",
   "execution_count": null,
   "metadata": {},
   "outputs": [],
   "source": []
  }
 ],
 "metadata": {
  "kernelspec": {
   "display_name": "Python 3 (ipykernel)",
   "language": "python",
   "name": "python3"
  },
  "language_info": {
   "codemirror_mode": {
    "name": "ipython",
    "version": 3
   },
   "file_extension": ".py",
   "mimetype": "text/x-python",
   "name": "python",
   "nbconvert_exporter": "python",
   "pygments_lexer": "ipython3",
   "version": "3.9.0"
  }
 },
 "nbformat": 4,
 "nbformat_minor": 4
}
